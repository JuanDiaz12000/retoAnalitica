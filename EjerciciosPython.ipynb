{
 "cells": [
  {
   "cell_type": "code",
   "execution_count": 6,
   "metadata": {},
   "outputs": [],
   "source": [
    "import math\n",
    "def primeN (number):\n",
    "    prime = []\n",
    "    for i in range (3, number+1):\n",
    "        isPrime = True\n",
    "        limit = int (math.sqrt(i))\n",
    "        for test in range (2, limit+1):\n",
    "            if i % test == 0:\n",
    "                isPrime = False\n",
    "                break\n",
    "        if isPrime:\n",
    "            prime.append(i)\n",
    "    return prime"
   ]
  },
  {
   "cell_type": "code",
   "execution_count": 21,
   "metadata": {},
   "outputs": [],
   "source": [
    "def crossProduct(a, b):\n",
    "    product = [float(a[1]*b[2] - a[2]*b[1]), float(a[2]*b[0] - a[0]*b[2]), float(a[0]*b[1] - a[1]*b[0])]\n",
    "    return product\n",
    "    "
   ]
  },
  {
   "cell_type": "code",
   "execution_count": 46,
   "metadata": {},
   "outputs": [],
   "source": [
    "def crossProductText():\n",
    "    file = open(\"vectors.txt\", \"r\")\n",
    "    linea1= file.readline().strip()\n",
    "    linea2 = file.readline().strip()\n",
    "    vector1= linea1.split (\",\")\n",
    "    vector2= linea2.split (\",\")\n",
    "    for i in range (3):\n",
    "        vector1[i]= float(vector1[i])\n",
    "        vector2[i]= float(vector2[i])\n",
    "    product = crossProduct(vector1, vector2)\n",
    "    file.close()\n",
    "    return product"
   ]
  },
  {
   "cell_type": "code",
   "execution_count": 47,
   "metadata": {},
   "outputs": [],
   "source": [
    "def firstRead():\n",
    "    file = open(\"vectors.txt\", \"r\")\n",
    "    linea1= file.readline().strip()\n",
    "    vector1= linea1.split (\",\")\n",
    "    for i in range (3):\n",
    "        vector1[i]= float(vector1[i])\n",
    "    product = vector1\n",
    "    file.close()\n",
    "    return product"
   ]
  },
  {
   "cell_type": "code",
   "execution_count": 48,
   "metadata": {},
   "outputs": [],
   "source": [
    "def secondRead():\n",
    "    file = open(\"vectors.txt\", \"r\")\n",
    "    linea1= file.readline().strip()\n",
    "    linea2= file.readline().strip()\n",
    "    vector1= linea1.split (\",\")\n",
    "    vector2= linea2.split (\",\")\n",
    "    for i in range (3):\n",
    "        vector1[i]= float(vector1[i])\n",
    "        vector2[i]= float(vector2[i])\n",
    "    product = vector2\n",
    "    file.close()\n",
    "    return product"
   ]
  },
  {
   "cell_type": "code",
   "execution_count": 50,
   "metadata": {},
   "outputs": [
    {
     "name": "stdout",
     "output_type": "stream",
     "text": [
      "[3, 5, 7, 11, 13, 17, 19, 23, 29, 31, 37, 41, 43, 47, 53, 59, 61, 67, 71, 73, 79, 83, 89, 97]\n",
      "[1, 2, 3]\n",
      "[4, 5, 6]\n",
      "[-3.0, 6.0, -3.0]\n",
      "[-342.20075929999996, -97.56381480000002, -438.88081]\n",
      "[13.45, 20.67, -15.0821]\n",
      "[-5.012, -40.333, 12.874]\n"
     ]
    }
   ],
   "source": [
    "primes=primeN(100)\n",
    "print(primes)\n",
    "primes2= [1, 2, 3]\n",
    "primes3=[4, 5, 6]\n",
    "print(primes2)\n",
    "print(primes3)\n",
    "product = crossProduct(primes2, primes3)\n",
    "print(product)\n",
    "vector4= firstRead()\n",
    "vector5 = secondRead()\n",
    "print(crossProductText())\n",
    "print(vector4)\n",
    "print(vector5)"
   ]
  },
  {
   "cell_type": "code",
   "execution_count": null,
   "metadata": {},
   "outputs": [],
   "source": []
  }
 ],
 "metadata": {
  "kernelspec": {
   "display_name": "Python 3",
   "language": "python",
   "name": "python3"
  },
  "language_info": {
   "codemirror_mode": {
    "name": "ipython",
    "version": 3
   },
   "file_extension": ".py",
   "mimetype": "text/x-python",
   "name": "python",
   "nbconvert_exporter": "python",
   "pygments_lexer": "ipython3",
   "version": "3.8.5"
  }
 },
 "nbformat": 4,
 "nbformat_minor": 4
}
